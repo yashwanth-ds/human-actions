{
 "cells": [
  {
   "cell_type": "code",
   "execution_count": 3,
   "metadata": {},
   "outputs": [
    {
     "name": "stdout",
     "output_type": "stream",
     "text": [
      "[[1.+0.j 2.+0.j 3.+0.j 4.+0.j]\n",
      " [5.+0.j 6.+0.j 7.+0.j 8.+0.j]]\n"
     ]
    }
   ],
   "source": [
    "import numpy as np\n",
    "b = np.array([[1,2,3,4],[5,6,7,8]], dtype=complex)\n",
    "print(b)"
   ]
  },
  {
   "cell_type": "code",
   "execution_count": 8,
   "metadata": {},
   "outputs": [
    {
     "data": {
      "text/plain": [
       "array([[0, 0, 0, 0],\n",
       "       [0, 0, 0, 0],\n",
       "       [0, 0, 0, 0]])"
      ]
     },
     "execution_count": 8,
     "metadata": {},
     "output_type": "execute_result"
    }
   ],
   "source": [
    "np.empty((3,4), dtype=np.int32)"
   ]
  },
  {
   "cell_type": "code",
   "execution_count": 7,
   "metadata": {},
   "outputs": [
    {
     "data": {
      "text/plain": [
       "array([[0., 0., 0., 0.],\n",
       "       [0., 0., 0., 0.],\n",
       "       [0., 0., 0., 0.]], dtype=float32)"
      ]
     },
     "execution_count": 7,
     "metadata": {},
     "output_type": "execute_result"
    }
   ],
   "source": [
    "np.zeros((3,4),dtype=np.float32)"
   ]
  },
  {
   "cell_type": "code",
   "execution_count": 9,
   "metadata": {},
   "outputs": [
    {
     "data": {
      "text/plain": [
       "array([[0.14532615, 0.29464922, 0.35775439],\n",
       "       [0.87763449, 0.41499857, 0.19370713]])"
      ]
     },
     "execution_count": 9,
     "metadata": {},
     "output_type": "execute_result"
    }
   ],
   "source": [
    "np.random.rand(2,3)"
   ]
  },
  {
   "cell_type": "code",
   "execution_count": 11,
   "metadata": {},
   "outputs": [
    {
     "data": {
      "text/plain": [
       "array([2.  , 2.25, 2.5 , 2.75, 3.  ])"
      ]
     },
     "execution_count": 11,
     "metadata": {},
     "output_type": "execute_result"
    }
   ],
   "source": [
    "np.linspace(2,3,num=5)"
   ]
  },
  {
   "cell_type": "code",
   "execution_count": 15,
   "metadata": {},
   "outputs": [
    {
     "name": "stdout",
     "output_type": "stream",
     "text": [
      "[ 1  3  5  7  9 11 13 15 17 19]\n"
     ]
    },
    {
     "ename": "ValueError",
     "evalue": "shapes (10,) and (5,2) not aligned: 10 (dim 0) != 5 (dim 0)",
     "output_type": "error",
     "traceback": [
      "\u001b[1;31m---------------------------------------------------------------------------\u001b[0m",
      "\u001b[1;31mValueError\u001b[0m                                Traceback (most recent call last)",
      "\u001b[1;32m<ipython-input-15-1045a0526303>\u001b[0m in \u001b[0;36m<module>\u001b[1;34m\u001b[0m\n\u001b[0;32m      3\u001b[0m \u001b[0mb\u001b[0m\u001b[1;33m=\u001b[0m\u001b[0ma\u001b[0m\u001b[1;33m.\u001b[0m\u001b[0mreshape\u001b[0m\u001b[1;33m(\u001b[0m\u001b[1;36m5\u001b[0m\u001b[1;33m,\u001b[0m\u001b[1;36m2\u001b[0m\u001b[1;33m)\u001b[0m\u001b[1;33m\u001b[0m\u001b[1;33m\u001b[0m\u001b[0m\n\u001b[0;32m      4\u001b[0m \u001b[0mb\u001b[0m\u001b[1;33m\u001b[0m\u001b[1;33m\u001b[0m\u001b[0m\n\u001b[1;32m----> 5\u001b[1;33m \u001b[0ma\u001b[0m\u001b[1;33m.\u001b[0m\u001b[0mdot\u001b[0m\u001b[1;33m(\u001b[0m\u001b[0mb\u001b[0m\u001b[1;33m)\u001b[0m\u001b[1;33m\u001b[0m\u001b[1;33m\u001b[0m\u001b[0m\n\u001b[0m",
      "\u001b[1;31mValueError\u001b[0m: shapes (10,) and (5,2) not aligned: 10 (dim 0) != 5 (dim 0)"
     ]
    }
   ],
   "source": [
    "a=np.arange(1,21,2)\n",
    "print(a)\n",
    "b=a.reshape(5,2)\n",
    "b\n",
    "a.dot(b)"
   ]
  },
  {
   "cell_type": "code",
   "execution_count": 17,
   "metadata": {},
   "outputs": [
    {
     "name": "stdout",
     "output_type": "stream",
     "text": [
      "[[0.27357989 0.66503869 0.27102422 0.03029276 0.23741191]\n",
      " [0.39786294 0.78801808 0.56981407 0.6044259  0.76392457]]\n",
      "0.030292764740605715\n",
      "0.7880180825416463\n",
      "[0.67144283 1.45305678 0.84083829 0.63471866 1.00133649]\n"
     ]
    },
    {
     "data": {
      "text/plain": [
       "array([1.47734749, 3.12404556])"
      ]
     },
     "execution_count": 17,
     "metadata": {},
     "output_type": "execute_result"
    }
   ],
   "source": [
    "d = np.random.random((2,5))\n",
    "print(d)\n",
    "print(d.min())\n",
    "print(d.max())\n",
    "print(d.sum(axis=0))\n",
    "d.sum(axis=1)"
   ]
  },
  {
   "cell_type": "code",
   "execution_count": 25,
   "metadata": {},
   "outputs": [
    {
     "name": "stdout",
     "output_type": "stream",
     "text": [
      "[[0 1]\n",
      " [2 3]]\n",
      "[[ 5 10]\n",
      " [10 10]]\n",
      "Transpose: \n",
      " [[0 2]\n",
      " [1 3]]\n",
      "\n",
      "Inner product: \n",
      " [[10 10]\n",
      " [40 50]]\n",
      "\n",
      "Cross product: \n",
      " [ -5 -10]\n",
      "\n",
      "Dot product: \n",
      " [[10 10]\n",
      " [40 50]]\n",
      "\n"
     ]
    }
   ],
   "source": [
    "dim_arr1=np.arange(4).reshape(2,2)\n",
    "print(dim_arr1)\n",
    "dim_arr2=np.array([[5,10],[10,10]])\n",
    "print(dim_arr2)\n",
    "print(f\"Transpose: \\n {np.transpose(dim_arr1)}\\n\")\n",
    "print(f\"Inner product: \\n {np.inner(dim_arr1,dim_arr2)}\\n\")\n",
    "print(f\"Cross product: \\n {np.cross(dim_arr1,dim_arr2)}\\n\")\n",
    "print(f\"Dot product: \\n {np.dot(dim_arr1,dim_arr2)}\\n\")"
   ]
  },
  {
   "cell_type": "code",
   "execution_count": 29,
   "metadata": {},
   "outputs": [
    {
     "name": "stdout",
     "output_type": "stream",
     "text": [
      "[[9. 4. 9. 5.]\n",
      " [6. 3. 0. 6.]\n",
      " [5. 2. 1. 4.]]\n",
      "[9. 4. 9. 5. 6. 3. 0. 6. 5. 2. 1. 4.]\n",
      "[[9. 4.]\n",
      " [9. 5.]\n",
      " [6. 3.]\n",
      " [0. 6.]\n",
      " [5. 2.]\n",
      " [1. 4.]]\n",
      "[[9. 6. 5.]\n",
      " [4. 3. 2.]\n",
      " [9. 0. 1.]\n",
      " [5. 6. 4.]]\n",
      "(3, 4)\n",
      "(4, 3)\n"
     ]
    }
   ],
   "source": [
    "arr = np.floor(10*np.random.random((3,4)))\n",
    "print(arr)\n",
    "\n",
    "print(arr.ravel())\n",
    "\n",
    "print(arr.reshape(6,2))\n",
    "\n",
    "print(arr.T)\n",
    "\n",
    "print(arr.shape)\n",
    "print(arr.T.shape)"
   ]
  },
  {
   "cell_type": "code",
   "execution_count": 30,
   "metadata": {},
   "outputs": [
    {
     "name": "stdout",
     "output_type": "stream",
     "text": [
      "arr1:\\n [[0 1 2]\n",
      " [3 4 5]]\n",
      "arr2:\\n [[0 1 2]\n",
      " [3 4 5]]\n",
      "\\n Using vstack and hstack\\n\n",
      "vertical stacking:\\n [[0 1 2]\n",
      " [3 4 5]\n",
      " [0 1 2]\n",
      " [3 4 5]]\n",
      "horizontal stacking:\\n [[0 1 2 0 1 2]\n",
      " [3 4 5 3 4 5]]\n",
      "\\n Using column_stack and row_stack\\n\n",
      "Horizontal stacking:\\n [[0 1 2 0 1 2]\n",
      " [3 4 5 3 4 5]]\n",
      "Vertical stacking:\\n [[0 1 2]\n",
      " [3 4 5]\n",
      " [0 1 2]\n",
      " [3 4 5]]\n"
     ]
    }
   ],
   "source": [
    "arr1 = np.arange(6).reshape(2,3)\n",
    "arr2 = np.arange(6).reshape(2,3)\n",
    "\n",
    "print(\"arr1:\\\\n\",arr1)\n",
    "print(\"arr2:\\\\n\",arr2)\n",
    "\n",
    "print(\"\\\\n Using vstack and hstack\\\\n\")\n",
    "\n",
    "print(\"vertical stacking:\\\\n\",np.vstack((arr1,arr2)))\n",
    "\n",
    "print(\"horizontal stacking:\\\\n\",np.hstack((arr1,arr2)))\n",
    "\n",
    "print(\"\\\\n Using column_stack and row_stack\\\\n\")\n",
    "\n",
    "print(\"Horizontal stacking:\\\\n\",np.column_stack((arr1,arr2)))\n",
    "\n",
    "print(\"Vertical stacking:\\\\n\",np.row_stack((arr1,arr2)))"
   ]
  },
  {
   "cell_type": "code",
   "execution_count": 34,
   "metadata": {},
   "outputs": [
    {
     "name": "stdout",
     "output_type": "stream",
     "text": [
      "[[ 0  1  2  3  4  5  6  7  8  9]\n",
      " [10 11 12 13 14 15 16 17 18 19]]\n",
      "[[ 0  1  2  3  4]\n",
      " [ 5  6  7  8  9]\n",
      " [10 11 12 13 14]\n",
      " [15 16 17 18 19]]\n",
      "\\n Along horizontal axis:\\n\n",
      "[array([[ 0,  1],\n",
      "       [10, 11]]), array([[ 2,  3],\n",
      "       [12, 13]]), array([[ 4,  5],\n",
      "       [14, 15]]), array([[ 6,  7],\n",
      "       [16, 17]]), array([[ 8,  9],\n",
      "       [18, 19]])]\n",
      "arr is now divided into 5 different arrays.\\n\n",
      "[array([[ 0],\n",
      "       [10]]), array([[ 1,  2,  3,  4,  5,  6],\n",
      "       [11, 12, 13, 14, 15, 16]]), array([[ 7,  8,  9],\n",
      "       [17, 18, 19]])]\n",
      " arr is split after the second and the fifth column\\n\n"
     ]
    }
   ],
   "source": [
    "arr = np.arange(20).reshape((2,10))\n",
    "print(arr)\n",
    "arr2 = arr.reshape(4,5)\n",
    "print(arr2)\n",
    "\n",
    "print(\"\\\\n Along horizontal axis:\\\\n\")\n",
    "\n",
    "print(np.hsplit(arr,5))\n",
    "print(\"arr is now divided into 5 different arrays.\\\\n\")\n",
    "\n",
    "print(np.hsplit(arr,(1,7)))\n",
    "print(\" arr is split after the second and the fifth column\\\\n\")"
   ]
  },
  {
   "cell_type": "code",
   "execution_count": 40,
   "metadata": {},
   "outputs": [
    {
     "name": "stdout",
     "output_type": "stream",
     "text": [
      "[[ 0  1  2  3  4  5  6  7  8  9]\n",
      " [10 11 12 13 14 15 16 17 18 19]]\n",
      "[[ 0  1  2  3  4]\n",
      " [ 5  6  7  8  9]\n",
      " [10 11 12 13 14]\n",
      " [15 16 17 18 19]]\n",
      "\\nAlong vertical axis:\\n\n",
      "[array([[0, 1, 2, 3, 4, 5, 6, 7, 8, 9]]), array([[10, 11, 12, 13, 14, 15, 16, 17, 18, 19]])]\n",
      "\\n arr2 is split after the second row\\n\n",
      "[array([[0, 1, 2, 3, 4]]), array([[5, 6, 7, 8, 9]]), array([[10, 11, 12, 13, 14]]), array([[15, 16, 17, 18, 19]])]\n",
      "\\n arr2 is split after the second row\\n\n"
     ]
    }
   ],
   "source": [
    "arr = np.arange(20).reshape((2,10))\n",
    "print(arr)\n",
    "arr2 = arr.reshape(4,5)\n",
    "print(arr2)\n",
    "print(\"\\\\nAlong vertical axis:\\\\n\")\n",
    "print(np.vsplit(arr,2))\n",
    "print(\"\\\\n arr2 is split after the second row\\\\n\")\n",
    "\n",
    "print(np.vsplit(arr2,4))\n",
    "print(\"\\\\n arr2 is split after the second row\\\\n\")"
   ]
  },
  {
   "cell_type": "code",
   "execution_count": 43,
   "metadata": {},
   "outputs": [
    {
     "name": "stdout",
     "output_type": "stream",
     "text": [
      "[[ 0  1  2  3  4]\n",
      " [ 5  6  7  8  9]\n",
      " [10 11 12 13 14]\n",
      " [15 16 17 18 19]]\n",
      "\\nUsing array_split:\n",
      "\\n [array([[0, 1, 2, 3, 4],\n",
      "       [5, 6, 7, 8, 9]]), array([[10, 11, 12, 13, 14],\n",
      "       [15, 16, 17, 18, 19]])]\n",
      "\\n [array([[ 0,  1,  2],\n",
      "       [ 5,  6,  7],\n",
      "       [10, 11, 12],\n",
      "       [15, 16, 17]]), array([[ 3,  4],\n",
      "       [ 8,  9],\n",
      "       [13, 14],\n",
      "       [18, 19]])]\n"
     ]
    }
   ],
   "source": [
    "arr = np.arange(20).reshape((2,10))\n",
    "arr2 = arr.reshape(4,5)\n",
    "print(arr2)\n",
    "\n",
    "print(\"\\\\nUsing array_split:\")\n",
    "print(\"\\\\n\",np.array_split(arr2,2,0))\n",
    "print(\"\\\\n\",np.array_split(arr2,2,1))"
   ]
  },
  {
   "cell_type": "code",
   "execution_count": 44,
   "metadata": {},
   "outputs": [
    {
     "name": "stdout",
     "output_type": "stream",
     "text": [
      "False\n",
      "(20,)\n",
      "100\n"
     ]
    }
   ],
   "source": [
    " arr1 = np.arange(20)\n",
    " arr2 = arr1.view()\n",
    " \n",
    " print(arr2 is arr1)\n",
    " arr2.shape = (5,4)\n",
    " print(arr1.shape)\n",
    " \n",
    " arr2[0] = 100\n",
    " \n",
    " print(arr1[0])"
   ]
  },
  {
   "cell_type": "code",
   "execution_count": null,
   "metadata": {},
   "outputs": [],
   "source": []
  }
 ],
 "metadata": {
  "kernelspec": {
   "display_name": "Python 3",
   "language": "python",
   "name": "python3"
  },
  "language_info": {
   "codemirror_mode": {
    "name": "ipython",
    "version": 3
   },
   "file_extension": ".py",
   "mimetype": "text/x-python",
   "name": "python",
   "nbconvert_exporter": "python",
   "pygments_lexer": "ipython3",
   "version": "3.7.1"
  }
 },
 "nbformat": 4,
 "nbformat_minor": 2
}
